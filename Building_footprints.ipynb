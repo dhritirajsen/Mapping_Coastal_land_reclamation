import osmnx as ox
import matplotlib.pyplot as plt
print(ox)
print(ox.__version__)
from matplotlib_scalebar.scalebar import ScaleBar

# Specify the name that is used to seach for the data

place_name =  "Songdo-dong,Incheon,South Korea"

# Fetch OSM street network from the location
graph = ox.graph_from_place(place_name)

type(graph)

# Plot the streets
fig, ax = ox.plot_graph(graph)

# Retrieve nodes and edges
nodes, edges = ox.graph_to_gdfs(graph)

nodes.head()
edges.head()

# Get place boundary related to the place name as a geodataframe
area = ox.gdf_from_place(place_name)

type(area)

area

area.plot()

# List key-value pairs for tags
tags = {'building': True}


gdf = ox.pois_from_place(place_name, tags)
gdf_proj = ox.projection.project_gdf(gdf)
fig, ax = ox.plot_footprints(gdf_proj)


len(gdf_proj)

gdf_proj.head()

areas = gdf_proj.area
areas.head()

sum(areas)

fig, ax = plt.subplots(figsize=(12,8))

# Plot the footprint
area.plot(ax=ax, facecolor='black')

# Plot street edges
edges.plot(ax=ax, linewidth=1, edgecolor='dimgray')

gdf.plot(ax=ax, facecolor='red', alpha=1.0)
scalebar = ScaleBar(1000000) # 1 pixel = 0.2 meter
plt.gca().add_artist(scalebar)
plt.show()